{
 "cells": [
  {
   "cell_type": "markdown",
   "id": "cf8e7597",
   "metadata": {},
   "source": [
    "# MBOGO JOSEPH MBOTE"
   ]
  },
  {
   "cell_type": "markdown",
   "id": "316e9cba",
   "metadata": {},
   "source": [
    "# SCT211-0011/2018"
   ]
  },
  {
   "cell_type": "code",
   "execution_count": 1,
   "id": "6987bc12",
   "metadata": {},
   "outputs": [],
   "source": [
    "import numpy as np"
   ]
  },
  {
   "cell_type": "code",
   "execution_count": 2,
   "id": "5ea1ab84",
   "metadata": {},
   "outputs": [],
   "source": [
    "#input values to be fed into the network\n",
    "input_values = np.array([[0,0],[0,1],[1,1],[1,0]])"
   ]
  },
  {
   "cell_type": "code",
   "execution_count": 3,
   "id": "a3591a51",
   "metadata": {},
   "outputs": [
    {
     "name": "stdout",
     "output_type": "stream",
     "text": [
      "[[0]\n",
      " [1]\n",
      " [1]\n",
      " [0]]\n"
     ]
    }
   ],
   "source": [
    "#define the expected output\n",
    "output = np.array([0,1,1,0])\n",
    "#convert into 1 column vector\n",
    "output = output.reshape(4,1)\n",
    "print(output)\n"
   ]
  },
  {
   "cell_type": "code",
   "execution_count": 4,
   "id": "d736c071",
   "metadata": {},
   "outputs": [],
   "source": [
    "#define the weights\n",
    "weights = np.array([[0.1],[0.2]])\n",
    "\n",
    "#define bias\n",
    "bias = 0.3"
   ]
  },
  {
   "cell_type": "code",
   "execution_count": 5,
   "id": "447d8e16",
   "metadata": {},
   "outputs": [],
   "source": [
    "#learning rate\n",
    "learningRate = 0.05\n"
   ]
  },
  {
   "cell_type": "code",
   "execution_count": 6,
   "id": "b37f463e",
   "metadata": {},
   "outputs": [],
   "source": [
    "#Activation function    \n",
    "def relu(x):\n",
    "    return(np.maximum(0, x))\n",
    "    "
   ]
  },
  {
   "cell_type": "code",
   "execution_count": 7,
   "id": "6dd9d09c",
   "metadata": {},
   "outputs": [],
   "source": [
    "#learning process\n",
    "for epochs in range(10000):\n",
    "    input_arr = input_values\n",
    "    weighted_sum = np.dot(input_arr, weights) + bias\n",
    "    first_output = relu(weighted_sum) ##feed forward\n",
    "    \n",
    "    #calculate the error\n",
    "    error = first_output - output\n",
    "    first_der = error\n",
    "    \n",
    "    t_input = input_values.T\n",
    "    final_derivative = np.dot(t_input, first_der)\n",
    "    \n",
    "    #update the weights\n",
    "    weights = weights-learningRate*final_derivative\n",
    "    \n",
    "    #update the bias\n",
    "    for i in first_der:\n",
    "        bias = bias -learningRate*i\n",
    "\n"
   ]
  },
  {
   "cell_type": "code",
   "execution_count": 8,
   "id": "3d41df38",
   "metadata": {},
   "outputs": [
    {
     "name": "stdout",
     "output_type": "stream",
     "text": [
      "[[-9.11785927e-31]\n",
      " [ 1.00000000e+00]]\n"
     ]
    }
   ],
   "source": [
    "print(weights)"
   ]
  },
  {
   "cell_type": "code",
   "execution_count": 9,
   "id": "7b191781",
   "metadata": {},
   "outputs": [
    {
     "name": "stdout",
     "output_type": "stream",
     "text": [
      "[4.4408921e-16]\n"
     ]
    }
   ],
   "source": [
    "print(bias)"
   ]
  },
  {
   "cell_type": "code",
   "execution_count": 10,
   "id": "d3503159",
   "metadata": {},
   "outputs": [
    {
     "name": "stdout",
     "output_type": "stream",
     "text": [
      "[4.4408921e-16]\n"
     ]
    }
   ],
   "source": [
    "#prediction\n",
    "input_v = np.array([1,0])\n",
    "result = np.dot(input_v, weights)+bias\n",
    "res = relu(result)\n",
    "print(res)"
   ]
  },
  {
   "cell_type": "code",
   "execution_count": null,
   "id": "360050cd",
   "metadata": {},
   "outputs": [],
   "source": []
  }
 ],
 "metadata": {
  "kernelspec": {
   "display_name": "Python 3 (ipykernel)",
   "language": "python",
   "name": "python3"
  },
  "language_info": {
   "codemirror_mode": {
    "name": "ipython",
    "version": 3
   },
   "file_extension": ".py",
   "mimetype": "text/x-python",
   "name": "python",
   "nbconvert_exporter": "python",
   "pygments_lexer": "ipython3",
   "version": "3.9.7"
  }
 },
 "nbformat": 4,
 "nbformat_minor": 5
}
